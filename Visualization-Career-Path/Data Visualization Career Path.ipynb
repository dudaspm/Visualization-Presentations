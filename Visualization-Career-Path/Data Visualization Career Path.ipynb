{
 "cells": [
  {
   "cell_type": "markdown",
   "id": "693f2c10-53ee-4a42-bcf5-87d7f1cff3ee",
   "metadata": {
    "slideshow": {
     "slide_type": "slide"
    },
    "tags": []
   },
   "source": [
    "# Data Visualization Career Path\n",
    "\n",
    "## Patrick M. Dudas, Ph.D."
   ]
  },
  {
   "cell_type": "markdown",
   "id": "4574a74d-4d3e-4ea5-a411-c7969eda8f6c",
   "metadata": {
    "slideshow": {
     "slide_type": "slide"
    },
    "tags": []
   },
   "source": [
    "# So how did I get from where you are, to where I am? "
   ]
  },
  {
   "cell_type": "markdown",
   "id": "1d242076-3359-4100-9105-c6a05b9d6ab4",
   "metadata": {
    "slideshow": {
     "slide_type": "fragment"
    },
    "tags": []
   },
   "source": [
    "## It's a very super simple story."
   ]
  },
  {
   "cell_type": "markdown",
   "id": "46f8d1d7-426f-4508-aad4-104ff279928c",
   "metadata": {
    "slideshow": {
     "slide_type": "fragment"
    },
    "tags": []
   },
   "source": [
    "## You don't even need to leave Pennsylvania!"
   ]
  },
  {
   "cell_type": "code",
   "execution_count": 93,
   "id": "f6164bc6-b9d3-4ae9-b547-c80323bdf345",
   "metadata": {
    "slideshow": {
     "slide_type": "slide"
    },
    "tags": [
     "remove-input"
    ]
   },
   "outputs": [
    {
     "data": {
      "text/html": [
       "<input type=\"button\" onclick=\"updateShow()\" value=\"update\">\n",
       "<div id=\"map1\"></div>\n",
       "<script type=\"module\">\n",
       "    import * as d3 from \"https://cdn.skypack.dev/d3@6\";\n",
       "    d3.json(\"https://gist.githubusercontent.com/dudaspm/b15d0ce65670f35a3a784ad9495f641f/raw/faf31c66f2b4096d88758628800ae1f990ec4b6b/world.json\")\n",
       "        .then(function(world) {\n",
       "        d3.json(\"https://raw.githubusercontent.com/dudaspm/d3plotbook/main/cb_2018_us_county_20m.json\")\n",
       "            .then(function(us) {\n",
       "            window.width = 600\n",
       "            window.height = 400\n",
       "            window.margin = 20\n",
       "            // Create the Mercator Projection\n",
       "            window.worldUS = d3.geoOrthographic().rotate([100, -40, 0]).fitExtent([[margin, margin], [width - margin, height - margin]], world)\n",
       "            // Create a function to generate our paths (counties)\n",
       "            window.pathGeneratorWorld = d3.geoPath().projection(worldUS)\n",
       "            \n",
       "            window.svg = d3.select(\"div#map1\").append(\"svg\")\n",
       "                .attr(\"viewBox\", [0, 0, width, height])\n",
       "            window.g = svg.append(\"g\");\n",
       "            \n",
       "            // construct the element\n",
       "            g.selectAll(\"path.world\")\n",
       "                .data(world.features)\n",
       "                .join(\"path\")\n",
       "                .attr(\"class\",\"world\")\n",
       "                .attr('d', pathGeneratorWorld)\n",
       "                .attr('fill', 'white')\n",
       "                .attr('stroke', 'black')\n",
       "                .attr('stroke-width', '.5')\n",
       "                \n",
       "                \n",
       "            var states = []\n",
       "            us[\"features\"].forEach(d=> states.push(+d.properties.STATEFP))\n",
       "            states.sort((a, b) => a - b)\n",
       "            states =  [...new Set(states)];\n",
       "            \n",
       "            window.color = d3.scaleLinear().range([0,1]).domain([0,states.length-1])\n",
       "            window.palette = d3.interpolateSpectral\n",
       "                \n",
       "                \n",
       "            g.selectAll(\"path.us\")\n",
       "                .data(us.features)\n",
       "                .join(\"path\")\n",
       "                .attr(\"class\",\"us\")\n",
       "                .attr('d', pathGeneratorWorld)\n",
       "                .attr('fill', \"white\")\n",
       "                .attr('stroke', d=> palette(color(states.indexOf(+d.properties.STATEFP))))\n",
       "                .attr('stroke-width', '.25')\n",
       "              svg.call(d3.zoom()\n",
       "                  .extent([[0, 0], [width, height]])\n",
       "                  .scaleExtent([0, 20])\n",
       "                  .on(\"zoom\", zoomed));\n",
       "\n",
       "              function zoomed({transform}) {\n",
       "                g.transition().duration(1000).attr(\"transform\", transform);\n",
       "              }\n",
       "        })\n",
       "        .catch(function(error){\n",
       "            console.log(error)\n",
       "        })\n",
       "    \n",
       "        })\n",
       "        .catch(function(error){\n",
       "            console.log(error)\n",
       "        })\n",
       "    window.counter = 0\n",
       "    window.places = []\n",
       "    window.updateShow = function() {\n",
       "        if (counter == 0) {\n",
       "            places.push([41.015216, -80.436863])\n",
       "             g.selectAll(\"circle\")\n",
       "                .data(places)\n",
       "                .join(\"circle\")\n",
       "                .attr('cx', d=>worldUS([d[1],d[0]])[0])\n",
       "                .attr('cy', d=>worldUS([d[1],d[0]])[1])\n",
       "                .attr('r', .25)\n",
       "                .attr('fill', '#000000')\n",
       "                .attr('stroke', 'none')\n",
       "\n",
       "        }\n",
       "        if (counter == 1) {\n",
       "            places.push([41.119729660558924, -80.33231818831256])\n",
       "             g.selectAll(\"circle\")\n",
       "                .data(places)\n",
       "                .join(\"circle\")\n",
       "                .attr('cx', d=>worldUS([d[1],d[0]])[0])\n",
       "                .attr('cy', d=>worldUS([d[1],d[0]])[1])\n",
       "                .attr('r', .25)\n",
       "                .attr('fill', '#000000')\n",
       "                .attr('stroke', 'none')\n",
       "        }\n",
       "        if (counter == 2) {\n",
       "            places.push([40.44752123800973, -79.95264889973423])\n",
       "             g.selectAll(\"circle\")\n",
       "                .data(places)\n",
       "                .join(\"circle\")\n",
       "                .attr('cx', d=>worldUS([d[1],d[0]])[0])\n",
       "                .attr('cy', d=>worldUS([d[1],d[0]])[1])\n",
       "                .attr('r', .25)\n",
       "                .attr('fill', '#000000')\n",
       "                .attr('stroke', 'none')\n",
       "        }\n",
       "        if (counter == 3) {\n",
       "            places.push([40.79290386041552, -77.86489376216517])\n",
       "             g.selectAll(\"circle\")\n",
       "                .data(places)\n",
       "                .join(\"circle\")\n",
       "                .attr('cx', d=>worldUS([d[1],d[0]])[0])\n",
       "                .attr('cy', d=>worldUS([d[1],d[0]])[1])\n",
       "                .attr('r', .25)\n",
       "                .attr('fill', '#000000')\n",
       "                .attr('stroke', 'none')\n",
       "        }\n",
       "        counter++\n",
       "    }\n",
       "</script>\n"
      ],
      "text/plain": [
       "<IPython.core.display.HTML object>"
      ]
     },
     "metadata": {},
     "output_type": "display_data"
    }
   ],
   "source": [
    "%%html\n",
    "<input type=\"button\" onclick=\"updateShow()\" value=\"update\">\n",
    "<div id=\"map1\"></div>\n",
    "<script type=\"module\">\n",
    "    import * as d3 from \"https://cdn.skypack.dev/d3@6\";\n",
    "    d3.json(\"https://gist.githubusercontent.com/dudaspm/b15d0ce65670f35a3a784ad9495f641f/raw/faf31c66f2b4096d88758628800ae1f990ec4b6b/world.json\")\n",
    "        .then(function(world) {\n",
    "        d3.json(\"https://raw.githubusercontent.com/dudaspm/d3plotbook/main/cb_2018_us_county_20m.json\")\n",
    "            .then(function(us) {\n",
    "            window.width = 600\n",
    "            window.height = 400\n",
    "            window.margin = 20\n",
    "            // Create the Mercator Projection\n",
    "            window.worldUS = d3.geoOrthographic().rotate([100, -40, 0]).fitExtent([[margin, margin], [width - margin, height - margin]], world)\n",
    "            // Create a function to generate our paths (counties)\n",
    "            window.pathGeneratorWorld = d3.geoPath().projection(worldUS)\n",
    "            \n",
    "            window.svg = d3.select(\"div#map1\").append(\"svg\")\n",
    "                .attr(\"viewBox\", [0, 0, width, height])\n",
    "            window.g = svg.append(\"g\");\n",
    "            \n",
    "            // construct the element\n",
    "            g.selectAll(\"path.world\")\n",
    "                .data(world.features)\n",
    "                .join(\"path\")\n",
    "                .attr(\"class\",\"world\")\n",
    "                .attr('d', pathGeneratorWorld)\n",
    "                .attr('fill', 'white')\n",
    "                .attr('stroke', 'black')\n",
    "                .attr('stroke-width', '.5')\n",
    "                \n",
    "                \n",
    "            var states = []\n",
    "            us[\"features\"].forEach(d=> states.push(+d.properties.STATEFP))\n",
    "            states.sort((a, b) => a - b)\n",
    "            states =  [...new Set(states)];\n",
    "            \n",
    "            window.color = d3.scaleLinear().range([0,1]).domain([0,states.length-1])\n",
    "            window.palette = d3.interpolateSpectral\n",
    "                \n",
    "                \n",
    "            g.selectAll(\"path.us\")\n",
    "                .data(us.features)\n",
    "                .join(\"path\")\n",
    "                .attr(\"class\",\"us\")\n",
    "                .attr('d', pathGeneratorWorld)\n",
    "                .attr('fill', \"white\")\n",
    "                .attr('stroke', d=> palette(color(states.indexOf(+d.properties.STATEFP))))\n",
    "                .attr('stroke-width', '.25')\n",
    "              svg.call(d3.zoom()\n",
    "                  .extent([[0, 0], [width, height]])\n",
    "                  .scaleExtent([0, 20])\n",
    "                  .on(\"zoom\", zoomed));\n",
    "\n",
    "              function zoomed({transform}) {\n",
    "                g.transition().duration(1000).attr(\"transform\", transform);\n",
    "              }\n",
    "        })\n",
    "        .catch(function(error){\n",
    "            console.log(error)\n",
    "        })\n",
    "    \n",
    "        })\n",
    "        .catch(function(error){\n",
    "            console.log(error)\n",
    "        })\n",
    "    window.counter = 0\n",
    "    window.places = []\n",
    "    window.updateShow = function() {\n",
    "        if (counter == 0) {\n",
    "            places.push([41.015216, -80.436863])\n",
    "             g.selectAll(\"circle\")\n",
    "                .data(places)\n",
    "                .join(\"circle\")\n",
    "                .attr('cx', d=>worldUS([d[1],d[0]])[0])\n",
    "                .attr('cy', d=>worldUS([d[1],d[0]])[1])\n",
    "                .attr('r', .25)\n",
    "                .attr('fill', '#000000')\n",
    "                .attr('stroke', 'none')\n",
    "\n",
    "        }\n",
    "        if (counter == 1) {\n",
    "            places.push([41.119729660558924, -80.33231818831256])\n",
    "             g.selectAll(\"circle\")\n",
    "                .data(places)\n",
    "                .join(\"circle\")\n",
    "                .attr('cx', d=>worldUS([d[1],d[0]])[0])\n",
    "                .attr('cy', d=>worldUS([d[1],d[0]])[1])\n",
    "                .attr('r', .25)\n",
    "                .attr('fill', '#000000')\n",
    "                .attr('stroke', 'none')\n",
    "        }\n",
    "        if (counter == 2) {\n",
    "            places.push([40.44752123800973, -79.95264889973423])\n",
    "             g.selectAll(\"circle\")\n",
    "                .data(places)\n",
    "                .join(\"circle\")\n",
    "                .attr('cx', d=>worldUS([d[1],d[0]])[0])\n",
    "                .attr('cy', d=>worldUS([d[1],d[0]])[1])\n",
    "                .attr('r', .25)\n",
    "                .attr('fill', '#000000')\n",
    "                .attr('stroke', 'none')\n",
    "        }\n",
    "        if (counter == 3) {\n",
    "            places.push([40.79290386041552, -77.86489376216517])\n",
    "             g.selectAll(\"circle\")\n",
    "                .data(places)\n",
    "                .join(\"circle\")\n",
    "                .attr('cx', d=>worldUS([d[1],d[0]])[0])\n",
    "                .attr('cy', d=>worldUS([d[1],d[0]])[1])\n",
    "                .attr('r', .25)\n",
    "                .attr('fill', '#000000')\n",
    "                .attr('stroke', 'none')\n",
    "        }\n",
    "        counter++\n",
    "    }\n",
    "</script>"
   ]
  },
  {
   "cell_type": "markdown",
   "id": "eafe6c12-0558-4ccb-bae5-aa418e859669",
   "metadata": {
    "slideshow": {
     "slide_type": "slide"
    },
    "tags": []
   },
   "source": [
    "# Reality"
   ]
  },
  {
   "cell_type": "code",
   "execution_count": 94,
   "id": "d2c80606-e39d-487c-bcc7-99b4be399a88",
   "metadata": {
    "tags": [
     "remove-input"
    ]
   },
   "outputs": [
    {
     "data": {
      "text/html": [
       "<input type=\"button\" onclick=\"updateShow2()\" value=\"update\">\n",
       "<div id=\"map2\"></div>\n",
       "<script type=\"module\">\n",
       "    import * as d3 from \"https://cdn.skypack.dev/d3@6\";\n",
       "    d3.json(\"https://gist.githubusercontent.com/dudaspm/b15d0ce65670f35a3a784ad9495f641f/raw/faf31c66f2b4096d88758628800ae1f990ec4b6b/world.json\")\n",
       "        .then(function(world) {\n",
       "        d3.json(\"https://raw.githubusercontent.com/dudaspm/d3plotbook/main/cb_2018_us_county_20m.json\")\n",
       "            .then(function(us) {\n",
       "            window.width2 = 600\n",
       "            window.height2 = 400\n",
       "            window.margin2 = 20\n",
       "            // Create the Mercator Projection\n",
       "            window.worldUS2 = d3.geoOrthographic().rotate([100, -40, 0]).fitExtent([[margin, margin], [width - margin, height - margin]], world)\n",
       "            // Create a function to generate our paths (counties)\n",
       "            window.pathGeneratorWorld2 = d3.geoPath().projection(worldUS2)\n",
       "            \n",
       "            window.svg2 = d3.select(\"div#map2\").append(\"svg\")\n",
       "                .attr(\"viewBox\", [0, 0, width, height])\n",
       "            window.g2 = svg2.append(\"g\");\n",
       "            \n",
       "            // construct the element\n",
       "            g2.selectAll(\"path.world\")\n",
       "                .data(world.features)\n",
       "                .join(\"path\")\n",
       "                .attr(\"class\",\"world\")\n",
       "                .attr('d', pathGeneratorWorld2)\n",
       "                .attr('fill', 'white')\n",
       "                .attr('stroke', 'black')\n",
       "                .attr('stroke-width', '.5')\n",
       "                \n",
       "                \n",
       "            var states = []\n",
       "            us[\"features\"].forEach(d=> states.push(+d.properties.STATEFP))\n",
       "            states.sort((a, b) => a - b)\n",
       "            states =  [...new Set(states)];\n",
       "            \n",
       "            window.color2 = d3.scaleLinear().range([0,1]).domain([0,states.length-1])\n",
       "            window.palette2 = d3.interpolateSpectral\n",
       "                \n",
       "                \n",
       "            g2.selectAll(\"path.us2\")\n",
       "                .data(us.features)\n",
       "                .join(\"path\")\n",
       "                .attr(\"class\",\"us2\")\n",
       "                .attr('d', pathGeneratorWorld2)\n",
       "                .attr('fill', \"white\")\n",
       "                .attr('stroke', d=> palette2(color2(states.indexOf(+d.properties.STATEFP))))\n",
       "                .attr('stroke-width', '.25')\n",
       "              svg2.call(d3.zoom()\n",
       "                  .extent([[0, 0], [width, height]])\n",
       "                  .scaleExtent([0, 20])\n",
       "                  .on(\"zoom\", zoomed2));\n",
       "\n",
       "              function zoomed2({transform}) {\n",
       "                g2.transition().duration(1000).attr(\"transform\", transform);\n",
       "              }\n",
       "        })\n",
       "        .catch(function(error){\n",
       "            console.log(error)\n",
       "        })\n",
       "    \n",
       "        })\n",
       "        .catch(function(error){\n",
       "            console.log(error)\n",
       "        })\n",
       "    window.counter2 = 0\n",
       "    window.places2 = []\n",
       "    window.updateShow2 = function() {\n",
       "        console.log(places2)\n",
       "        function printPlace() {\n",
       "            g2.selectAll(\"circle.map2\")\n",
       "                .data(places2)\n",
       "                .join(\"circle\")\n",
       "                .attr(\"class\",\"map2\")\n",
       "                .attr('cx', d=>worldUS2([d[1],d[0]])[0])\n",
       "                .attr('cy', d=>worldUS2([d[1],d[0]])[1])\n",
       "                .attr('r', 1)\n",
       "                .attr('fill', '#000000')\n",
       "                .attr('stroke', 'none')\n",
       "        }\n",
       "        if (counter2 == 0) {\n",
       "            places2.push([41.015216, -80.436863])\n",
       "            printPlace() \n",
       "\n",
       "        }\n",
       "        if (counter2 == 1) {\n",
       "            places2.push([41.119729660558924, -80.33231818831256])\n",
       "            printPlace() \n",
       "\n",
       "        }\n",
       "        if (counter2 == 2) {\n",
       "            places2.push([40.30302223982645, -79.52691502141086])\n",
       "            printPlace() \n",
       "        }\n",
       "        if (counter2 == 3) {\n",
       "            places2.push([40.50038007812506, -79.86930197537878])\n",
       "            printPlace() \n",
       "        }\n",
       "        if (counter2 == 4) {\n",
       "            places2.push([40.44752123800973, -79.95264889973423])\n",
       "            printPlace() \n",
       "        }\n",
       "        if (counter2 == 5) {\n",
       "            places2.push([42.277980073987074, -83.73822410178028])\n",
       "            printPlace() \n",
       "        }\n",
       "        if (counter2 == 6) {\n",
       "            places2.push([36.597201420826735, -121.87419059025405])\n",
       "            printPlace() \n",
       "        }\n",
       "        if (counter2 == 7) {\n",
       "            places2.push([39.96238859812187, -75.6086780176076])\n",
       "            printPlace() \n",
       "        }\n",
       "        if (counter2 == 8) {\n",
       "            places2.push([40.79290386041552, -77.86489376216517])\n",
       "            printPlace() \n",
       "        }\n",
       "        \n",
       "        \n",
       "        counter2++\n",
       "    }\n",
       "</script>\n"
      ],
      "text/plain": [
       "<IPython.core.display.HTML object>"
      ]
     },
     "metadata": {},
     "output_type": "display_data"
    }
   ],
   "source": [
    "%%html\n",
    "<input type=\"button\" onclick=\"updateShow2()\" value=\"update\">\n",
    "<div id=\"map2\"></div>\n",
    "<script type=\"module\">\n",
    "    import * as d3 from \"https://cdn.skypack.dev/d3@6\";\n",
    "    d3.json(\"https://gist.githubusercontent.com/dudaspm/b15d0ce65670f35a3a784ad9495f641f/raw/faf31c66f2b4096d88758628800ae1f990ec4b6b/world.json\")\n",
    "        .then(function(world) {\n",
    "        d3.json(\"https://raw.githubusercontent.com/dudaspm/d3plotbook/main/cb_2018_us_county_20m.json\")\n",
    "            .then(function(us) {\n",
    "            window.width2 = 600\n",
    "            window.height2 = 400\n",
    "            window.margin2 = 20\n",
    "            // Create the Mercator Projection\n",
    "            window.worldUS2 = d3.geoOrthographic().rotate([100, -40, 0]).fitExtent([[margin, margin], [width - margin, height - margin]], world)\n",
    "            // Create a function to generate our paths (counties)\n",
    "            window.pathGeneratorWorld2 = d3.geoPath().projection(worldUS2)\n",
    "            \n",
    "            window.svg2 = d3.select(\"div#map2\").append(\"svg\")\n",
    "                .attr(\"viewBox\", [0, 0, width, height])\n",
    "            window.g2 = svg2.append(\"g\");\n",
    "            \n",
    "            // construct the element\n",
    "            g2.selectAll(\"path.world\")\n",
    "                .data(world.features)\n",
    "                .join(\"path\")\n",
    "                .attr(\"class\",\"world\")\n",
    "                .attr('d', pathGeneratorWorld2)\n",
    "                .attr('fill', 'white')\n",
    "                .attr('stroke', 'black')\n",
    "                .attr('stroke-width', '.5')\n",
    "                \n",
    "                \n",
    "            var states = []\n",
    "            us[\"features\"].forEach(d=> states.push(+d.properties.STATEFP))\n",
    "            states.sort((a, b) => a - b)\n",
    "            states =  [...new Set(states)];\n",
    "            \n",
    "            window.color2 = d3.scaleLinear().range([0,1]).domain([0,states.length-1])\n",
    "            window.palette2 = d3.interpolateSpectral\n",
    "                \n",
    "                \n",
    "            g2.selectAll(\"path.us2\")\n",
    "                .data(us.features)\n",
    "                .join(\"path\")\n",
    "                .attr(\"class\",\"us2\")\n",
    "                .attr('d', pathGeneratorWorld2)\n",
    "                .attr('fill', \"white\")\n",
    "                .attr('stroke', d=> palette2(color2(states.indexOf(+d.properties.STATEFP))))\n",
    "                .attr('stroke-width', '.25')\n",
    "              svg2.call(d3.zoom()\n",
    "                  .extent([[0, 0], [width, height]])\n",
    "                  .scaleExtent([0, 20])\n",
    "                  .on(\"zoom\", zoomed2));\n",
    "\n",
    "              function zoomed2({transform}) {\n",
    "                g2.transition().duration(1000).attr(\"transform\", transform);\n",
    "              }\n",
    "        })\n",
    "        .catch(function(error){\n",
    "            console.log(error)\n",
    "        })\n",
    "    \n",
    "        })\n",
    "        .catch(function(error){\n",
    "            console.log(error)\n",
    "        })\n",
    "    window.counter2 = 0\n",
    "    window.places2 = []\n",
    "    window.updateShow2 = function() {\n",
    "        console.log(places2)\n",
    "        function printPlace() {\n",
    "            g2.selectAll(\"circle.map2\")\n",
    "                .data(places2)\n",
    "                .join(\"circle\")\n",
    "                .attr(\"class\",\"map2\")\n",
    "                .attr('cx', d=>worldUS2([d[1],d[0]])[0])\n",
    "                .attr('cy', d=>worldUS2([d[1],d[0]])[1])\n",
    "                .attr('r', 1)\n",
    "                .attr('fill', '#000000')\n",
    "                .attr('stroke', 'none')\n",
    "        }\n",
    "        if (counter2 == 0) {\n",
    "            places2.push([41.015216, -80.436863])\n",
    "            printPlace() \n",
    "\n",
    "        }\n",
    "        if (counter2 == 1) {\n",
    "            places2.push([41.119729660558924, -80.33231818831256])\n",
    "            printPlace() \n",
    "\n",
    "        }\n",
    "        if (counter2 == 2) {\n",
    "            places2.push([40.30302223982645, -79.52691502141086])\n",
    "            printPlace() \n",
    "        }\n",
    "        if (counter2 == 3) {\n",
    "            places2.push([40.50038007812506, -79.86930197537878])\n",
    "            printPlace() \n",
    "        }\n",
    "        if (counter2 == 4) {\n",
    "            places2.push([40.44752123800973, -79.95264889973423])\n",
    "            printPlace() \n",
    "        }\n",
    "        if (counter2 == 5) {\n",
    "            places2.push([42.277980073987074, -83.73822410178028])\n",
    "            printPlace() \n",
    "        }\n",
    "        if (counter2 == 6) {\n",
    "            places2.push([36.597201420826735, -121.87419059025405])\n",
    "            printPlace() \n",
    "        }\n",
    "        if (counter2 == 7) {\n",
    "            places2.push([39.96238859812187, -75.6086780176076])\n",
    "            printPlace() \n",
    "        }\n",
    "        if (counter2 == 8) {\n",
    "            places2.push([40.79290386041552, -77.86489376216517])\n",
    "            printPlace() \n",
    "        }\n",
    "        \n",
    "        \n",
    "        counter2++\n",
    "    }\n",
    "</script>"
   ]
  },
  {
   "cell_type": "markdown",
   "id": "1ca0f23c-3c4a-44cc-8cbb-97ceb92e7341",
   "metadata": {
    "slideshow": {
     "slide_type": "slide"
    },
    "tags": []
   },
   "source": [
    "# My Point?"
   ]
  },
  {
   "cell_type": "markdown",
   "id": "c849edfc-df4f-483e-9b9a-f0ed46ff15bd",
   "metadata": {
    "slideshow": {
     "slide_type": "fragment"
    },
    "tags": []
   },
   "source": [
    "## Yes, there are people who know exactly where they want to end up. "
   ]
  },
  {
   "cell_type": "markdown",
   "id": "6c6fa08e-cbd5-41d9-a599-637f3eacada2",
   "metadata": {
    "slideshow": {
     "slide_type": "subslide"
    },
    "tags": []
   },
   "source": [
    "## But there are some of us that keep moving forward and make the path up as we go. "
   ]
  },
  {
   "cell_type": "markdown",
   "id": "d61dd24c-e38e-47a4-a6b9-14bb1a0fc3eb",
   "metadata": {
    "slideshow": {
     "slide_type": "slide"
    },
    "tags": []
   },
   "source": [
    "# What am I Doing Now?"
   ]
  },
  {
   "cell_type": "markdown",
   "id": "fef76fd2-bdad-4038-9168-49ece1bc7ff4",
   "metadata": {
    "slideshow": {
     "slide_type": "subslide"
    },
    "tags": []
   },
   "source": [
    "## I support research by making pretty pictures"
   ]
  },
  {
   "cell_type": "code",
   "execution_count": 98,
   "id": "df6c84d5-1695-4611-a68f-9641845366ab",
   "metadata": {
    "slideshow": {
     "slide_type": "subslide"
    },
    "tags": []
   },
   "outputs": [
    {
     "data": {
      "text/html": [
       "<figure class=\"video_container\">\n",
       "  <video width=\"800\" height=\"600\" controls=\"false\" allowfullscreen=\"false\" >\n",
       "    <source src=\"https://www.datacommons.psu.edu/download/meteorology/greybush/emars-1p0/videos/1999-09-20_1999-10-14_alldata.mp4\" type=\"video/mp4\">\n",
       "\n",
       "  </video>\n",
       "</figure>\n"
      ],
      "text/plain": [
       "<IPython.core.display.HTML object>"
      ]
     },
     "metadata": {},
     "output_type": "display_data"
    }
   ],
   "source": [
    "%%html\n",
    "<figure class=\"video_container\">\n",
    "  <video width=\"800\" height=\"600\" controls=\"false\" allowfullscreen=\"false\" >\n",
    "    <source src=\"https://www.datacommons.psu.edu/download/meteorology/greybush/emars-1p0/videos/1999-09-20_1999-10-14_alldata.mp4\" type=\"video/mp4\">\n",
    "\n",
    "  </video>\n",
    "</figure>"
   ]
  },
  {
   "cell_type": "markdown",
   "id": "53dcb77e-a458-499a-9cfe-0b96eb54db85",
   "metadata": {
    "slideshow": {
     "slide_type": "fragment"
    },
    "tags": []
   },
   "source": [
    "# Physics + Visualizations\n",
    "\n",
    "## Thank you to Harsh Tyagi and Dr. Matthew Rau (PSU Engineering)"
   ]
  },
  {
   "cell_type": "code",
   "execution_count": 74,
   "id": "fc34b7cc-8fd8-4e61-81d0-82519dfe3878",
   "metadata": {
    "slideshow": {
     "slide_type": "slide"
    },
    "tags": [
     "remove-input"
    ]
   },
   "outputs": [
    {
     "data": {
      "text/html": [
       "\n",
       "        <iframe\n",
       "            width=\"1000\"\n",
       "            height=\"500\"\n",
       "            src=\"http://digital.fluency.psu.edu/projectiOn/notebooks/radiation/research/a/\"\n",
       "            frameborder=\"0\"\n",
       "            allowfullscreen\n",
       "        ></iframe>\n",
       "        "
      ],
      "text/plain": [
       "<IPython.lib.display.IFrame at 0x243d10adf70>"
      ]
     },
     "execution_count": 74,
     "metadata": {},
     "output_type": "execute_result"
    }
   ],
   "source": [
    "from IPython.display import IFrame\n",
    "IFrame('http://digital.fluency.psu.edu/projectiOn/notebooks/radiation/research/a/', width=1000, height=500)"
   ]
  },
  {
   "cell_type": "code",
   "execution_count": null,
   "id": "181db1ac-4c13-4db5-aa3a-aa3e68af2f2f",
   "metadata": {},
   "outputs": [],
   "source": []
  }
 ],
 "metadata": {
  "kernelspec": {
   "display_name": "Python 3",
   "language": "python",
   "name": "python3"
  },
  "language_info": {
   "codemirror_mode": {
    "name": "ipython",
    "version": 3
   },
   "file_extension": ".py",
   "mimetype": "text/x-python",
   "name": "python",
   "nbconvert_exporter": "python",
   "pygments_lexer": "ipython3",
   "version": "3.8.8"
  }
 },
 "nbformat": 4,
 "nbformat_minor": 5
}
